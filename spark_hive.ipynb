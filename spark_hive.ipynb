{
 "cells": [
  {
   "cell_type": "code",
   "execution_count": 1,
   "id": "b2647fd2",
   "metadata": {},
   "outputs": [],
   "source": [
    "import findspark\n",
    "findspark.init()"
   ]
  },
  {
   "cell_type": "code",
   "execution_count": 2,
   "id": "59353431",
   "metadata": {},
   "outputs": [
    {
     "name": "stderr",
     "output_type": "stream",
     "text": [
      "23/01/10 11:05:41 WARN util.Utils: Your hostname, node1 resolves to a loopback address: 127.0.0.1; using 10.0.2.15 instead (on interface enp0s3)\n",
      "23/01/10 11:05:41 WARN util.Utils: Set SPARK_LOCAL_IP if you need to bind to another address\n",
      "23/01/10 11:05:41 WARN util.NativeCodeLoader: Unable to load native-hadoop library for your platform... using builtin-java classes where applicable\n",
      "Setting default log level to \"WARN\".\n",
      "To adjust logging level use sc.setLogLevel(newLevel). For SparkR, use setLogLevel(newLevel).\n",
      "23/01/10 11:05:42 WARN util.Utils: Service 'SparkUI' could not bind on port 4040. Attempting port 4041.\n",
      "23/01/10 11:05:42 WARN util.Utils: Service 'SparkUI' could not bind on port 4041. Attempting port 4042.\n"
     ]
    }
   ],
   "source": [
    "from pyspark.sql import SparkSession\n",
    "\n",
    "from os.path import abspath\n",
    "warehouse_location = abspath('spark-warehouse')\n",
    "\n",
    "spark = SparkSession \\\n",
    "    .builder \\\n",
    "    .appName(\"Python Spark SQL Hive integration example\") \\\n",
    "    .config(\"spark.sql.warehouse.dir\", \"hdfs://node1/user/hive/warehouse/speed_camera_violations\") \\\n",
    "    .enableHiveSupport() \\\n",
    "    .getOrCreate()"
   ]
  },
  {
   "cell_type": "code",
   "execution_count": 3,
   "id": "bfb73425",
   "metadata": {},
   "outputs": [
    {
     "name": "stdout",
     "output_type": "stream",
     "text": [
      "+--------+--------------------+-----------+\n",
      "|database|           tableName|isTemporary|\n",
      "+--------+--------------------+-----------+\n",
      "| default|           employees|      false|\n",
      "| default|            salaries|      false|\n",
      "| default|speed_camera_viol...|      false|\n",
      "| default|     traffic_crashes|      false|\n",
      "| default|                wifi|      false|\n",
      "+--------+--------------------+-----------+\n",
      "\n"
     ]
    }
   ],
   "source": [
    "spark.sql(\"show tables\").show()"
   ]
  },
  {
   "cell_type": "code",
   "execution_count": 4,
   "id": "2fc51372",
   "metadata": {},
   "outputs": [
    {
     "name": "stderr",
     "output_type": "stream",
     "text": [
      "[Stage 0:=================================================>     (302 + 2) / 336]\r"
     ]
    },
    {
     "name": "stdout",
     "output_type": "stream",
     "text": [
      "+--------------------+---------+--------------------+----------+---------+---------+---------+----------+\n",
      "|             address|camera_id|      violation_date|violations|   x_cord|   y_cord| latitude| longitude|\n",
      "+--------------------+---------+--------------------+----------+---------+---------+---------+----------+\n",
      "|10318 S INDIANAPOLIS|   CHI120|2022-12-24T00:00:...|        54|1203645.4|1837056.1|41.707577| -87.52985|\n",
      "|  1142 W IRVING PARK|   CHI095|2022-12-24T00:00:...|       140|1167789.5|1926747.1| 41.95454| -87.65857|\n",
      "|         115 N OGDEN|   CHI077|2022-12-24T00:00:...|       170|1166484.9|1900735.5| 41.88319|-87.664116|\n",
      "|      1306 W 76TH ST|   CHI185|2022-12-24T00:00:...|         6|1168833.0|1854443.2| 41.75611| -87.65683|\n",
      "|1315 W GARFIELD BLVD|   CHI121|2022-12-24T00:00:...|        72|1168444.5|1868118.4|41.793644| -87.65786|\n",
      "|1334 W GARFIELD BLVD|   CHI119|2022-12-24T00:00:...|        11|1168211.2|1868328.5|41.794228| -87.65871|\n",
      "|      1507 W 83rd ST|   CHI170|2022-12-24T00:00:...|         5|1167695.1|1849654.2|41.742992| -87.66114|\n",
      "|   1754 N PULASKI RD|   CHI157|2022-12-24T00:00:...|        26|1149394.8|1911607.8|41.913376|-87.726585|\n",
      "|      1901 E 75TH ST|   CHI138|2022-12-24T00:00:...|        16|1190192.1|1855579.5| 41.75874| -87.57852|\n",
      "|     2416 W 103RD ST|   CHI154|2022-12-24T00:00:...|         9|1161995.6|1836307.4|41.706486| -87.68239|\n",
      "+--------------------+---------+--------------------+----------+---------+---------+---------+----------+\n",
      "\n"
     ]
    },
    {
     "name": "stderr",
     "output_type": "stream",
     "text": [
      "\r",
      "[Stage 0:======================================================>(334 + 2) / 336]\r",
      "\r",
      "                                                                                \r"
     ]
    }
   ],
   "source": [
    "spark.sql(\"select * from speed_camera_violations limit 10\").show()"
   ]
  },
  {
   "cell_type": "code",
   "execution_count": null,
   "id": "72f46652",
   "metadata": {},
   "outputs": [],
   "source": []
  }
 ],
 "metadata": {
  "kernelspec": {
   "display_name": "Python 3 (ipykernel)",
   "language": "python",
   "name": "python3"
  },
  "language_info": {
   "codemirror_mode": {
    "name": "ipython",
    "version": 3
   },
   "file_extension": ".py",
   "mimetype": "text/x-python",
   "name": "python",
   "nbconvert_exporter": "python",
   "pygments_lexer": "ipython3",
   "version": "3.9.4"
  }
 },
 "nbformat": 4,
 "nbformat_minor": 5
}
