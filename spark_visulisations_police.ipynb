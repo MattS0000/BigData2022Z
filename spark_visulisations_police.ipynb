{
 "cells": [
  {
   "cell_type": "code",
   "execution_count": 16,
   "id": "092096e8",
   "metadata": {},
   "outputs": [],
   "source": [
    "import findspark\n",
    "findspark.init()"
   ]
  },
  {
   "cell_type": "code",
   "execution_count": 17,
   "id": "31c0365e",
   "metadata": {},
   "outputs": [
    {
     "name": "stdout",
     "output_type": "stream",
     "text": [
      "Python 3.9.4\r\n"
     ]
    }
   ],
   "source": [
    "!python --version"
   ]
  },
  {
   "cell_type": "code",
   "execution_count": 18,
   "id": "1db0ccc8",
   "metadata": {},
   "outputs": [],
   "source": [
    "from pyspark.sql import SparkSession\n",
    "\n",
    "spark = (\n",
    "    SparkSession.builder\n",
    "    .appName(\"HDFS\")\n",
    "    .getOrCreate()\n",
    ")"
   ]
  },
  {
   "cell_type": "code",
   "execution_count": 5,
   "id": "f5f799cb",
   "metadata": {},
   "outputs": [
    {
     "name": "stdout",
     "output_type": "stream",
     "text": [
      "root\n",
      " |-- DISTRICT: string (nullable = true)\n",
      " |-- DISTRICT NAME: string (nullable = true)\n",
      " |-- ADDRESS: string (nullable = true)\n",
      " |-- CITY: string (nullable = true)\n",
      " |-- STATE: string (nullable = true)\n",
      " |-- ZIP: integer (nullable = true)\n",
      " |-- WEBSITE: string (nullable = true)\n",
      " |-- PHONE: string (nullable = true)\n",
      " |-- FAX: string (nullable = true)\n",
      " |-- TTY: string (nullable = true)\n",
      " |-- X COORDINATE: double (nullable = true)\n",
      " |-- Y COORDINATE: double (nullable = true)\n",
      " |-- LATITUDE: double (nullable = true)\n",
      " |-- LONGITUDE: double (nullable = true)\n",
      " |-- LOCATION: string (nullable = true)\n",
      "\n"
     ]
    }
   ],
   "source": [
    "police_df = (\n",
    "    spark.read\n",
    "    .option(\"header\", \"true\")\n",
    "    .option(\"inferschema\", \"true\")\n",
    "    .csv('hdfs://localhost:8020/user/project/input/police_stations.csv')\n",
    ")\n",
    "police_df.printSchema()"
   ]
  },
  {
   "cell_type": "code",
   "execution_count": 15,
   "id": "bd26980d",
   "metadata": {},
   "outputs": [
    {
     "name": "stdout",
     "output_type": "stream",
     "text": [
      "+--------------------+-----------------+--------------------+-------+-----+-----+--------------------+------------+------------+------------+------------+------------+-----------+------------+--------------------+\n",
      "|            DISTRICT|    DISTRICT NAME|             ADDRESS|   CITY|STATE|  ZIP|             WEBSITE|       PHONE|         FAX|         TTY|X COORDINATE|Y COORDINATE|   LATITUDE|   LONGITUDE|            LOCATION|\n",
      "+--------------------+-----------------+--------------------+-------+-----+-----+--------------------+------------+------------+------------+------------+------------+-----------+------------+--------------------+\n",
      "|        Headquarters|     Headquarters| 3510 S Michigan Ave|Chicago|   IL|60653|http://home.chica...|        null|        null|        null| 1177731.401| 1881697.404|41.83070169|-87.62339535|(41.8307016873, -...|\n",
      "|                  18|       Near North|  1160 N Larrabee St|Chicago|   IL|60610|http://home.chica...|312-742-5870|312-742-5771|312-742-5773| 1172080.029| 1908086.527|41.90324165|-87.64335214|(41.9032416531, -...|\n",
      "|                  19|        Town Hall|    850 W Addison St|Chicago|   IL|60613|http://home.chica...|312-744-8320|312-744-4481|312-744-8011| 1169730.744| 1924160.317|41.94740046|-87.65151202|(41.9474004564, -...|\n",
      "|                  20|          Lincoln|  5400 N Lincoln Ave|Chicago|   IL|60625|http://home.chica...|312-742-8714|312-742-8803|312-742-8841| 1158399.146| 1935788.826|41.97954951|-87.69284451|(41.9795495131, -...|\n",
      "|                  22|      Morgan Park| 1900 W Monterey Ave|Chicago|   IL|60643|http://home.chica...|312-745-0710|312-745-0814|312-745-0569| 1165825.476| 1830851.333|41.69143478|-87.66852039|(41.6914347795, -...|\n",
      "|                  24|      Rogers Park|     6464 N Clark St|Chicago|   IL|60626|http://home.chica...|312-744-5907|312-744-6928|312-744-7603| 1164193.588| 1943199.401|41.99976348|-87.67132429|(41.9997634842, -...|\n",
      "|                  25|    Grand Central|    5555 W Grand Ave|Chicago|   IL|60639|http://home.chica...|312-746-8605|312-746-4353|312-746-8383| 1138770.871| 1913442.439|41.91860889|-87.76557448|(41.9186088912, -...|\n",
      "|                   1|          Central|     1718 S State St|Chicago|   IL|60616|http://home.chica...|312-745-4290|312-745-3694|312-745-3693| 1176569.052| 1891771.704|41.85837259|-87.62735617|(41.8583725929, -...|\n",
      "|                   2|        Wentworth|5101 S Wentworth Ave|Chicago|   IL|60609|http://home.chica...|312-747-8366|312-747-5396|312-747-6656| 1175864.837| 1871153.753|41.80181109|-87.63056018|(41.8018110912, -...|\n",
      "|                   3|   Grand Crossing|7040 S Cottage Gr...|Chicago|   IL|60637|http://home.chica...|312-747-8201|312-747-5479|312-747-9168| 1182739.183| 1858317.732|41.76643089|-87.60574786|(41.7664308925, -...|\n",
      "|                   4|    South Chicago|     2255 E 103rd St|Chicago|   IL|60617|http://home.chica...|312-747-7581|312-747-5276|312-747-9169| 1193131.299| 1837090.265|41.70793329|-87.56834912|(41.7079332906, -...|\n",
      "|                   5|          Calumet|      727 E 111th St|Chicago|   IL|60628|http://home.chica...|312-747-8210|312-747-5935|312-747-9170| 1183305.427| 1831462.313|41.69272336|-87.60450587|(41.6927233639, -...|\n",
      "|                   6|          Gresham|   7808 S Halsted St|Chicago|   IL|60620|http://home.chica...|312-745-3617|312-745-3649|312-745-3639| 1172283.013| 1853022.646|41.75213684|-87.64422891|(41.7521368378, -...|\n",
      "|                   7|        Englewood|      1438 W 63rd St|Chicago|   IL|60636|http://home.chica...|312-747-8223|312-747-6558|312-747-6652| 1167659.235| 1863005.522|41.77963154|-87.66088702|(41.7796315359, -...|\n",
      "|                   8|     Chicago Lawn|      3420 W 63rd St|Chicago|   IL|60629|http://home.chica...|312-747-8730|312-747-8545|312-747-8116| 1154575.242| 1862672.049|41.77898719|-87.70886382|(41.778987189, -8...|\n",
      "|                   9|          Deering|   3120 S Halsted St|Chicago|   IL|60608|http://home.chica...|312-747-8227|312-747-5329|312-747-9172|  1171440.24| 1884085.224|41.83739443|-87.64640771|(41.8373944311, -...|\n",
      "|                  10|            Ogden|    3315 W Ogden Ave|Chicago|   IL|60623|http://home.chica...|312-747-7511|312-747-7429|312-747-7471| 1154500.753| 1890985.501|41.85668453|-87.70838196|(41.8566845327, -...|\n",
      "|                  11|         Harrison|  3151 W Harrison St|Chicago|   IL|60612|http://home.chica...|312-746-8386|312-746-4281|312-746-5151| 1155244.069| 1897148.755|41.87358229|-87.70548813|(41.8735822883, -...|\n",
      "|                  12|        Near West|1412 S Blue Islan...|   null| null| null|                null|        null|        null|        null|        null|        null|       null|        null|                null|\n",
      "|\",Chicago,IL,6060...| -87.6569725149)\"|                null|   null| null| null|                null|        null|        null|        null|        null|        null|       null|        null|                null|\n",
      "+--------------------+-----------------+--------------------+-------+-----+-----+--------------------+------------+------------+------------+------------+------------+-----------+------------+--------------------+\n",
      "only showing top 20 rows\n",
      "\n"
     ]
    }
   ],
   "source": [
    "police_df.show()"
   ]
  },
  {
   "cell_type": "code",
   "execution_count": 11,
   "id": "3388aaeb",
   "metadata": {},
   "outputs": [],
   "source": [
    "police_df.createOrReplaceTempView(\"police\")"
   ]
  },
  {
   "cell_type": "code",
   "execution_count": 1,
   "id": "0a88841b",
   "metadata": {},
   "outputs": [],
   "source": [
    "import findspark\n",
    "findspark.init()"
   ]
  },
  {
   "cell_type": "code",
   "execution_count": 2,
   "id": "6a99469a",
   "metadata": {},
   "outputs": [
    {
     "name": "stderr",
     "output_type": "stream",
     "text": [
      "23/01/13 01:17:39 WARN util.Utils: Your hostname, node1 resolves to a loopback address: 127.0.0.1; using 10.0.2.15 instead (on interface enp0s3)\n",
      "23/01/13 01:17:39 WARN util.Utils: Set SPARK_LOCAL_IP if you need to bind to another address\n",
      "23/01/13 01:17:40 WARN util.NativeCodeLoader: Unable to load native-hadoop library for your platform... using builtin-java classes where applicable\n",
      "Setting default log level to \"WARN\".\n",
      "To adjust logging level use sc.setLogLevel(newLevel). For SparkR, use setLogLevel(newLevel).\n"
     ]
    }
   ],
   "source": [
    "from pyspark.sql import SparkSession\n",
    "\n",
    "from os.path import abspath\n",
    "warehouse_location = abspath('spark-warehouse')\n",
    "\n",
    "spark2 = SparkSession \\\n",
    "    .builder \\\n",
    "    .appName(\"Python Spark SQL Hive integration example\") \\\n",
    "    .config(\"spark.sql.warehouse.dir\", \"hdfs://node1/user/hive/warehouse/speed_camera_violations_fix\") \\\n",
    "    .enableHiveSupport() \\\n",
    "    .getOrCreate()"
   ]
  },
  {
   "cell_type": "code",
   "execution_count": 3,
   "id": "3376f143",
   "metadata": {},
   "outputs": [],
   "source": [
    "speed_camera = spark2.sql(\"select * from speed_camera_violations_fix\")"
   ]
  },
  {
   "cell_type": "code",
   "execution_count": 12,
   "id": "e72c9094",
   "metadata": {},
   "outputs": [],
   "source": [
    "speed_camera.createOrReplaceTempView(\"speed_camera\")"
   ]
  },
  {
   "cell_type": "code",
   "execution_count": 160,
   "id": "af5bd26b",
   "metadata": {},
   "outputs": [
    {
     "name": "stdout",
     "output_type": "stream",
     "text": [
      "root\n",
      " |-- address: string (nullable = true)\n",
      " |-- camera_id: string (nullable = true)\n",
      " |-- violation_date: string (nullable = true)\n",
      " |-- violations: integer (nullable = true)\n",
      " |-- x_cord: float (nullable = true)\n",
      " |-- y_cord: float (nullable = true)\n",
      " |-- latitude: float (nullable = true)\n",
      " |-- longitude: float (nullable = true)\n",
      "\n"
     ]
    }
   ],
   "source": [
    "speed_camera.printSchema()"
   ]
  },
  {
   "cell_type": "code",
   "execution_count": 126,
   "id": "937a3bbc",
   "metadata": {},
   "outputs": [],
   "source": [
    "df = spark.sql(\"SELECT longitude, latitude, `DISTRICT NAME` FROM police where longitude is not null \")\n"
   ]
  },
  {
   "cell_type": "code",
   "execution_count": 144,
   "id": "841c660b",
   "metadata": {},
   "outputs": [],
   "source": [
    "import pandas as pd"
   ]
  },
  {
   "cell_type": "code",
   "execution_count": 134,
   "id": "c34de30d",
   "metadata": {},
   "outputs": [],
   "source": [
    "long = df.select(\"longitude\").rdd.flatMap(lambda x: x).collect()"
   ]
  },
  {
   "cell_type": "code",
   "execution_count": 135,
   "id": "3ce46387",
   "metadata": {},
   "outputs": [],
   "source": [
    "lat = df.select(\"latitude\").rdd.flatMap(lambda x: x).collect()"
   ]
  },
  {
   "cell_type": "code",
   "execution_count": 139,
   "id": "a213b43c",
   "metadata": {},
   "outputs": [],
   "source": [
    "dis_name = df.select(\"DISTRICT NAME\").rdd.flatMap(lambda x: x).collect()"
   ]
  },
  {
   "cell_type": "code",
   "execution_count": 145,
   "id": "021480f8",
   "metadata": {},
   "outputs": [],
   "source": [
    "p_df = pd.DataFrame(list(zip(long, lat,dis_name )),columns =['longitude', 'latitude','name'])"
   ]
  },
  {
   "cell_type": "code",
   "execution_count": 209,
   "id": "441248f2",
   "metadata": {},
   "outputs": [
    {
     "name": "stdout",
     "output_type": "stream",
     "text": [
      "Headquarters\n",
      "Near North\n",
      "Town Hall\n",
      "Lincoln\n",
      "Morgan Park\n",
      "Rogers Park\n",
      "Grand Central\n",
      "Central\n",
      "Wentworth\n",
      "Grand Crossing\n",
      "South Chicago\n",
      "Calumet\n",
      "Gresham\n",
      "Englewood\n",
      "Chicago Lawn\n",
      "Deering\n",
      "Ogden\n",
      "Harrison\n",
      "Shakespeare\n",
      "Austin\n",
      "Jefferson Park\n",
      "Albany Park\n"
     ]
    }
   ],
   "source": [
    "tables = []\n",
    "for i in range(22):\n",
    "    long = p_df.loc[i][0]\n",
    "    lat = p_df.loc[i][1]\n",
    "    dist = p_df.loc[i][2]\n",
    "    script = \"abs(longitude - \" + str(long) + \" + latitude - \" + str(lat) + \")\"\n",
    "    print(dist)\n",
    "    t=spark.sql(\"SELECT distinct camera_id, longitude, latitude, \" + script + \"as distance, '\" + dist +\\\n",
    "                \"' as location FROM speed_camera where longitude is not null \")\n",
    "    tables.append(t)\n",
    "    if i == 0:\n",
    "        df2 = t\n",
    "    else:\n",
    "        df2 = df2.union(tables[i])\n",
    "        "
   ]
  },
  {
   "cell_type": "code",
   "execution_count": 210,
   "id": "1a19b6db",
   "metadata": {},
   "outputs": [],
   "source": [
    "df2.createOrReplaceTempView(\"test1\")"
   ]
  },
  {
   "cell_type": "code",
   "execution_count": 218,
   "id": "67410356",
   "metadata": {},
   "outputs": [
    {
     "name": "stderr",
     "output_type": "stream",
     "text": [
      "[Stage 1067:=========>(4332 + 2) / 4400][Stage 1114:>              (0 + 0) / 20]\r"
     ]
    },
    {
     "name": "stdout",
     "output_type": "stream",
     "text": [
      "+---------+----------+---------+-------------------+------------+\n",
      "|camera_id| longitude| latitude|           distance|    location|\n",
      "+---------+----------+---------+-------------------+------------+\n",
      "|   CHI114|-87.748184|41.992092|0.03660158846679451|Headquarters|\n",
      "|   CHI101| -87.57631|41.760006|0.02360959317383049|Headquarters|\n",
      "+---------+----------+---------+-------------------+------------+\n",
      "\n"
     ]
    },
    {
     "name": "stderr",
     "output_type": "stream",
     "text": [
      "\r",
      "[Stage 1067:=========>(4385 + 2) / 4400][Stage 1114:>              (0 + 0) / 20]\r",
      "\r",
      "                                                                                \r"
     ]
    }
   ],
   "source": [
    "spark.sql(\"select * from test1 limit 2\").show()"
   ]
  },
  {
   "cell_type": "code",
   "execution_count": 207,
   "id": "bf1f4139",
   "metadata": {},
   "outputs": [],
   "source": [
    "for i in range(1,22):\n",
    "    tables[0].union(tables[i]).createOrReplaceTempView(\"test1\")"
   ]
  },
  {
   "cell_type": "code",
   "execution_count": 238,
   "id": "4e7a953d",
   "metadata": {},
   "outputs": [
    {
     "name": "stderr",
     "output_type": "stream",
     "text": [
      "[Stage 1471:(1317 + 2) / 4400][Stage 1473:(8 + 0) / 124][Stage 1474:(0 + 0) / 124]\r"
     ]
    }
   ],
   "source": [
    "camera_locations = spark.sql(\"select location, t1.camera_id, t1.min_dist from test1 join (SELECT camera_id , min(distance)  \\\n",
    "          as min_dist FROM test1 group by camera_id ) t1 on test1.distance = t1. min_dist and test1.camera_id = t1.camera_id \")\n",
    "          \n",
    "          "
   ]
  },
  {
   "cell_type": "code",
   "execution_count": 240,
   "id": "2ae69b76",
   "metadata": {},
   "outputs": [
    {
     "name": "stderr",
     "output_type": "stream",
     "text": [
      "                                                                                \r"
     ]
    }
   ],
   "source": [
    "camera_locations.createOrReplaceTempView(\"camera_locations\")"
   ]
  },
  {
   "cell_type": "code",
   "execution_count": 243,
   "id": "d531d7e9",
   "metadata": {},
   "outputs": [],
   "source": [
    "speed_camera2 = spark.sql(\"SELECT address, s.camera_id,violation_date,violations,location,\\\n",
    "min_dist FROM speed_camera s left join camera_locations c on s.camera_id = c.camera_id\")\n",
    "\n",
    "\n"
   ]
  },
  {
   "cell_type": "code",
   "execution_count": 244,
   "id": "f6359097",
   "metadata": {},
   "outputs": [
    {
     "name": "stderr",
     "output_type": "stream",
     "text": [
      "                                                                                4]\r"
     ]
    }
   ],
   "source": [
    "camera_locations.write.csv(\"hdfs://node1:8020/user/project/output/camera_location.csv\")"
   ]
  },
  {
   "cell_type": "code",
   "execution_count": 245,
   "id": "1ca15285",
   "metadata": {},
   "outputs": [
    {
     "name": "stderr",
     "output_type": "stream",
     "text": [
      "                                                                                4]\r"
     ]
    }
   ],
   "source": [
    "speed_camera2.write.csv(\"hdfs://node1:8020/user/project/output/speed_camera2.csv\")"
   ]
  },
  {
   "cell_type": "code",
   "execution_count": 246,
   "id": "64623880",
   "metadata": {},
   "outputs": [],
   "source": [
    "speed_camera2.createOrReplaceTempView(\"speed_camera2\")"
   ]
  },
  {
   "cell_type": "code",
   "execution_count": 250,
   "id": "95277127",
   "metadata": {},
   "outputs": [
    {
     "name": "stderr",
     "output_type": "stream",
     "text": [
      "[Stage 2077:=================================================>  (192 + 2) / 200]\r"
     ]
    },
    {
     "name": "stdout",
     "output_type": "stream",
     "text": [
      "+--------------------+-------------------+\n",
      "|       min(min_dist)|      max(min_dist)|\n",
      "+--------------------+-------------------+\n",
      "|8.247674804806593E-5|0.04891918125976957|\n",
      "+--------------------+-------------------+\n",
      "\n"
     ]
    },
    {
     "name": "stderr",
     "output_type": "stream",
     "text": [
      "\r",
      "                                                                                \r"
     ]
    }
   ],
   "source": [
    "spark.sql(\"select min(min_dist), max(min_dist) from speed_camera2\").show()"
   ]
  },
  {
   "cell_type": "code",
   "execution_count": 264,
   "id": "1c98c5c9",
   "metadata": {},
   "outputs": [],
   "source": [
    "speed_camera3 = spark.sql(\"select address, violation_date, violations,location, \\\n",
    "(min_dist - 8.247674804806593/100000)/ (0.04891918125976957 - 8.247674804806593/100000) as dist  from speed_camera2\")"
   ]
  },
  {
   "cell_type": "code",
   "execution_count": 272,
   "id": "556d0856",
   "metadata": {},
   "outputs": [],
   "source": [
    "speed_camera3.createOrReplaceTempView(\"speed_camera3\")"
   ]
  },
  {
   "cell_type": "code",
   "execution_count": 273,
   "id": "de92b1d8",
   "metadata": {},
   "outputs": [],
   "source": [
    "speed_camera4 = spark.sql(\"select *, case\\\n",
    "           when ceil(dist*10) <=10    then  ceil(dist*10)\\\n",
    "           else 10\\\n",
    "      end DistRange from speed_camera3\")"
   ]
  },
  {
   "cell_type": "code",
   "execution_count": 274,
   "id": "9a55388e",
   "metadata": {},
   "outputs": [],
   "source": [
    "plot_df1 = speed_camera4.groupBy('DistRange').agg({'violations':'sum'})"
   ]
  },
  {
   "cell_type": "code",
   "execution_count": 276,
   "id": "ec45000f",
   "metadata": {},
   "outputs": [],
   "source": [
    "import matplotlib.pyplot as plt"
   ]
  },
  {
   "cell_type": "code",
   "execution_count": 279,
   "id": "39b0769a",
   "metadata": {},
   "outputs": [
    {
     "name": "stderr",
     "output_type": "stream",
     "text": [
      "                                                                                24]\r"
     ]
    }
   ],
   "source": [
    "x = plot_df1.select('DistRange').rdd.flatMap(lambda x: x).collect()"
   ]
  },
  {
   "cell_type": "code",
   "execution_count": 280,
   "id": "41634952",
   "metadata": {},
   "outputs": [
    {
     "name": "stderr",
     "output_type": "stream",
     "text": [
      "                                                                                24]\r"
     ]
    }
   ],
   "source": [
    "y = plot_df1.select(\"sum(violations)\").rdd.flatMap(lambda x: x).collect()"
   ]
  },
  {
   "cell_type": "code",
   "execution_count": 295,
   "id": "0d13ee3c",
   "metadata": {},
   "outputs": [
    {
     "data": {
      "image/png": "[encoded data removed]",
      "text/plain": [
       "<Figure size 1500x800 with 1 Axes>"
      ]
     },
     "metadata": {},
     "output_type": "display_data"
    },
    {
     "name": "stderr",
     "output_type": "stream",
     "text": [
      "23/01/13 04:39:59 WARN hdfs.DFSClient: DFSOutputStream ResponseProcessor exception  for block BP-452004364-127.0.0.1-1632240816439:blk_1073749523_8766\n",
      "java.net.SocketTimeoutException: 65000 millis timeout while waiting for channel to be ready for read. ch : java.nio.channels.SocketChannel[connected local=/127.0.0.1:33606 remote=/127.0.0.1:50010]\n",
      "\tat org.apache.hadoop.net.SocketIOWithTimeout.doIO(SocketIOWithTimeout.java:164)\n",
      "\tat org.apache.hadoop.net.SocketInputStream.read(SocketInputStream.java:161)\n",
      "\tat org.apache.hadoop.net.SocketInputStream.read(SocketInputStream.java:131)\n",
      "\tat org.apache.hadoop.net.SocketInputStream.read(SocketInputStream.java:118)\n",
      "\tat java.io.FilterInputStream.read(FilterInputStream.java:83)\n",
      "\tat java.io.FilterInputStream.read(FilterInputStream.java:83)\n",
      "\tat org.apache.hadoop.hdfs.protocolPB.PBHelper.vintPrefixed(PBHelper.java:2292)\n",
      "\tat org.apache.hadoop.hdfs.protocol.datatransfer.PipelineAck.readFields(PipelineAck.java:244)\n",
      "\tat org.apache.hadoop.hdfs.DFSOutputStream$DataStreamer$ResponseProcessor.run(DFSOutputStream.java:847)\n"
     ]
    }
   ],
   "source": [
    "fig, ax = plt.subplots(1,1, figsize=(15, 8))\n",
    "ax.bar(x, y)\n",
    "ax.set_ylabel('Number of violations')\n",
    "ax.set_xlabel('Police Station range')\n",
    "ax.set_title(\"Relationship between nearest police station range and number of speed violations\")\n",
    "\n",
    "plt.show()"
   ]
  },
  {
   "cell_type": "code",
   "execution_count": 285,
   "id": "c799c44d",
   "metadata": {},
   "outputs": [
    {
     "name": "stderr",
     "output_type": "stream",
     "text": [
      "                                                                                24]\r"
     ]
    }
   ],
   "source": [
    "plot_df1.write.csv(\"hdfs://node1:8020/user/project/output/DistRange_violations.csv\")"
   ]
  }
 ],
 "metadata": {
  "kernelspec": {
   "display_name": "Python 3 (ipykernel)",
   "language": "python",
   "name": "python3"
  },
  "language_info": {
   "codemirror_mode": {
    "name": "ipython",
    "version": 3
   },
   "file_extension": ".py",
   "mimetype": "text/x-python",
   "name": "python",
   "nbconvert_exporter": "python",
   "pygments_lexer": "ipython3",
   "version": "3.9.4"
  }
 },
 "nbformat": 4,
 "nbformat_minor": 5
}
